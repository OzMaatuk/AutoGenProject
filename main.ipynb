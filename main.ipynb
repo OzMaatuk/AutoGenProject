{
 "cells": [
  {
   "cell_type": "code",
   "execution_count": null,
   "metadata": {},
   "outputs": [],
   "source": [
    "from SettlementChat import SettlementChat"
   ]
  },
  {
   "cell_type": "code",
   "execution_count": null,
   "metadata": {},
   "outputs": [],
   "source": [
    "pm = SettlementChat(log_file=\"logs\\\\PM.log\", config_file=\"CONFIG_LIST.json\", system_message_file=\"prompts\\\\PM.txt\", docs_path=\"rag\\PM\")\n",
    "pm.run(\"Plan product for monitor alert and collect job posts over several different websites/services (indeed, linkedin, jobmaster, etc...). The application should get customized requests for job by text and create a list of results with details and references that updates live (of course remove outdateds).\")"
   ]
  },
  {
   "cell_type": "code",
   "execution_count": null,
   "metadata": {},
   "outputs": [],
   "source": [
    "product_description = pm.get_summary()"
   ]
  },
  {
   "cell_type": "code",
   "execution_count": null,
   "metadata": {},
   "outputs": [],
   "source": [
    "arch = SettlementChat(log_file=\"logs\\\\Arch.log\", config_file=\"CONFIG_LIST.json\", system_message_file=\"prompts\\\\Architect.txt\", docs_path=\"rag\\Architecture\")\n",
    "arch.run(\"Provide software architecture for the following product: \" + product_description)"
   ]
  },
  {
   "cell_type": "code",
   "execution_count": null,
   "metadata": {},
   "outputs": [],
   "source": [
    "product_architecture = arch.get_summary()"
   ]
  },
  {
   "cell_type": "code",
   "execution_count": null,
   "metadata": {},
   "outputs": [],
   "source": [
    "product_architecture"
   ]
  },
  {
   "cell_type": "code",
   "execution_count": null,
   "metadata": {},
   "outputs": [],
   "source": []
  }
 ],
 "metadata": {
  "kernelspec": {
   "display_name": "base",
   "language": "python",
   "name": "python3"
  },
  "language_info": {
   "codemirror_mode": {
    "name": "ipython",
    "version": 3
   },
   "file_extension": ".py",
   "mimetype": "text/x-python",
   "name": "python",
   "nbconvert_exporter": "python",
   "pygments_lexer": "ipython3",
   "version": "3.10.0"
  }
 },
 "nbformat": 4,
 "nbformat_minor": 2
}
