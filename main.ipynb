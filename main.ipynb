{
 "cells": [
  {
   "cell_type": "code",
   "execution_count": 7,
   "metadata": {},
   "outputs": [],
   "source": [
    "from SettlementChat.SettlementChat import SettlementChat"
   ]
  },
  {
   "cell_type": "code",
   "execution_count": 8,
   "metadata": {},
   "outputs": [],
   "source": [
    "pm = SettlementChat(log_file=\"logs\\\\main.log\",\n",
    "                    system_message_file=\"D:\\\\Workspace\\\\DevelopmentTeam\\\\logs\\\\reviewer.log\",\n",
    "                    docs_path=\"rag\\\\Programmer\",\n",
    "                    max_round=6)\n",
    "with open(\"logs\\\\clear_output.log\") as f:\n",
    "    text = f.read()\n",
    "    pm.run(\"\"\"Collect all python code blocks from the following conversation,\n",
    "             Review the code and provide final version with necessary fixes.\n",
    "             Your response should include only the content of fixed python files.\n",
    "             here are all the details:\\n\"\"\" + text)"
   ]
  },
  {
   "cell_type": "code",
   "execution_count": 9,
   "metadata": {},
   "outputs": [
    {
     "name": "stderr",
     "output_type": "stream",
     "text": [
      "execute_code was called without specifying a value for use_docker. Since the python docker package is not available, code will be run natively. Note: this fallback behavior is subject to change\n",
      "SIGALRM is not supported on Windows. No timeout will be enforced.\n"
     ]
    }
   ],
   "source": [
    "pm.get_code()"
   ]
  },
  {
   "cell_type": "code",
   "execution_count": null,
   "metadata": {},
   "outputs": [],
   "source": [
    "pm.get_summary()"
   ]
  }
 ],
 "metadata": {
  "kernelspec": {
   "display_name": "base",
   "language": "python",
   "name": "python3"
  },
  "language_info": {
   "codemirror_mode": {
    "name": "ipython",
    "version": 3
   },
   "file_extension": ".py",
   "mimetype": "text/x-python",
   "name": "python",
   "nbconvert_exporter": "python",
   "pygments_lexer": "ipython3",
   "version": "3.10.0"
  }
 },
 "nbformat": 4,
 "nbformat_minor": 2
}
