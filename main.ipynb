{
 "cells": [
  {
   "cell_type": "code",
   "execution_count": 7,
   "metadata": {},
   "outputs": [],
   "source": [
    "from SettlementChat.SettlementChat import SettlementChat"
   ]
  },
  {
   "cell_type": "code",
   "execution_count": 8,
   "metadata": {},
   "outputs": [],
   "source": [
    "agent = SettlementChat(log_file=\"logs\\\\Summerizer.log\",\n",
    "                       system_message_file=\"prompts\\\\Summarizer.txt\",\n",
    "                       docs_path=\"rag\\\\NewGenAI_ImpactReport.pdf\"),\n",
    "agent.run(\"\"\"Please provide summary for the following content,\n",
    "          Avoid duplication file not missing any practical and necessary detail.\"\"\")"
   ]
  },
  {
   "cell_type": "code",
   "execution_count": null,
   "metadata": {},
   "outputs": [],
   "source": [
    "agent.get_summary()"
   ]
  },
  {
   "cell_type": "code",
   "execution_count": null,
   "metadata": {},
   "outputs": [],
   "source": [
    "agent = SettlementChat(log_file=\"logs\\\\Reviewer.log\",\n",
    "                    system_message_file=\"prompts\\\\Reviewer.txt\",\n",
    "                    docs_path=\"rag\\\\Programmer\",\n",
    "                    max_round=6)\n",
    "text=\"\"\n",
    "with open(\"logs\\\\clear_output.log\") as f:\n",
    "    text = f.read()\n",
    "\n",
    "agent.run(text)"
   ]
  },
  {
   "cell_type": "code",
   "execution_count": null,
   "metadata": {},
   "outputs": [],
   "source": [
    "agent.get_code()"
   ]
  }
 ],
 "metadata": {
  "kernelspec": {
   "display_name": "base",
   "language": "python",
   "name": "python3"
  },
  "language_info": {
   "codemirror_mode": {
    "name": "ipython",
    "version": 3
   },
   "file_extension": ".py",
   "mimetype": "text/x-python",
   "name": "python",
   "nbconvert_exporter": "python",
   "pygments_lexer": "ipython3",
   "version": "3.10.0"
  }
 },
 "nbformat": 4,
 "nbformat_minor": 2
}
