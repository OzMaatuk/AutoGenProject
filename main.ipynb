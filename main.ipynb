{
 "cells": [
  {
   "cell_type": "code",
   "execution_count": 1,
   "metadata": {},
   "outputs": [],
   "source": [
    "from SettlementChat.SettlementChat import SettlementChat"
   ]
  },
  {
   "cell_type": "code",
   "execution_count": 3,
   "metadata": {},
   "outputs": [
    {
     "data": {
      "text/plain": [
       "'defaultdict(<class \\'list\\'>, {<autogen.agentchat.groupchat.GroupChatManager object at 0x0000019E9B27FFA0>: [{\\'content\\': \"Please provide summary for the \\'Measuring Impact: The GenAI Code Report\\' document.\", \\'role\\': \\'assistant\\'}, {\\'content\\': \"Please provide summary for the \\'Measuring Impact: The GenAI Code Report\\' document.\", \\'role\\': \\'user\\', \\'name\\': \\'chat_manager\\'}], <autogen.agentchat.contrib.retrieve_user_proxy_agent.RetrieveUserProxyAgent object at 0x0000019E9B0499F0>: [{\\'content\\': \"Please provide summary for the \\'Measuring Impact: The GenAI Code Report\\' document.\", \\'name\\': \\'chat_manager\\', \\'role\\': \\'assistant\\'}, {\\'content\\': \\'The \"Measuring Impact: The GenAI Code Report\" examines the impact of artificial intelligence on diversity and inclusion in the workplace. It outlines a framework for measuring the impact of AI on diversity and provides insights into the potential for bias in AI systems. The report also offers recommendations for companies to improve diversity and inclusion in their AI development processes.\\', \\'role\\': \\'user\\', \\'name\\': \\'Openai_agent\\'}, {\\'content\\': \"1. The GenAI Code Report analyzes the impact of artificial intelligence (AI) on workplace diversity and inclusion.\\\\n\\\\n\\\\n2. It proposes a framework to measure AI\\'s impact on diversity and identifies potential biases within AI systems.\\\\n\\\\n\\\\n3. The report recommends that companies adopt measures to promote diversity and inclusion in their AI development processes.\", \\'name\\': \\'Google_agent\\', \\'role\\': \\'assistant\\'}, {\\'content\\': \\'The \"Measuring Impact: The GenAI Code Report\" analyzes the impact of artificial intelligence (AI) on workplace diversity and inclusion. It proposes a framework to measure AI\\\\\\'s impact on diversity and identifies potential biases within AI systems. The report recommends that companies adopt measures to promote diversity and inclusion in their AI development processes.\\', \\'role\\': \\'user\\', \\'name\\': \\'Openai_agent\\'}, {\\'content\\': \"- The GenAI Code Report analyzes AI\\'s influence on workplace diversity and inclusion.\\\\n\\\\n\\\\n- The report proposes a framework to assess AI\\'s impact on diversity and pinpoints potential biases in AI systems.\\\\n\\\\n\\\\n- Recommendations for businesses to prioritize diversity and inclusion in AI development processes are provided in the report.\", \\'name\\': \\'Google_agent\\', \\'role\\': \\'assistant\\'}, {\\'content\\': \\'The \"Measuring Impact: The GenAI Code Report\" examines AI\\\\\\'s influence on workplace diversity and inclusion. It proposes a framework to assess AI\\\\\\'s impact on diversity and highlights potential biases in AI systems. The report also offers recommendations for businesses to prioritize diversity and inclusion in AI development processes.\\', \\'role\\': \\'user\\', \\'name\\': \\'Openai_agent\\'}, {\\'content\\': \"- The GenAI Code Report examines the impact of AI on workplace diversity and inclusion, offering a framework to evaluate AI\\'s influence.\\\\n\\\\n\\\\n- It identifies potential biases in AI systems, underscoring the need for companies to focus on diversity and inclusion in AI development.\\\\n\\\\n\\\\n- Recommendations are provided to businesses, advocating for measures that promote diversity and inclusion within their AI development processes.\", \\'name\\': \\'Google_agent\\', \\'role\\': \\'assistant\\'}, {\\'content\\': \\'The \"Measuring Impact: The GenAI Code Report\" delves into the impact of AI on workplace diversity and inclusion, providing a framework to evaluate AI\\\\\\'s influence. It addresses potential biases in AI systems and advocates for companies to prioritize diversity and inclusion in AI development. Additionally, the report offers recommendations for businesses to implement measures promoting diversity and inclusion within their AI development processes.\\', \\'role\\': \\'user\\', \\'name\\': \\'Openai_agent\\'}, {\\'content\\': \\'- The GenAI Code Report examines the impact of AI on workplace diversity and inclusion, providing a framework for evaluation.\\\\n\\\\n\\\\n- It identifies potential biases in AI systems, stressing the importance of diversity and inclusion in AI development.\\\\n\\\\n\\\\n- The report recommends that businesses adopt measures to foster diversity and inclusion in their AI development processes.\\', \\'name\\': \\'Google_agent\\', \\'role\\': \\'assistant\\'}, {\\'content\\': \\'The \"Measuring Impact: The GenAI Code Report\" examines the impact of AI on workplace diversity and inclusion, and offers a framework for evaluation. It highlights potential biases in AI systems, emphasizing the importance of diversity and inclusion in AI development. The report also recommends that businesses adopt measures to foster diversity and inclusion in their AI development processes.\\', \\'role\\': \\'user\\', \\'name\\': \\'Openai_agent\\'}, {\\'content\\': \"- GenAI Code Report analyzes AI\\'s workplace diversity and inclusion impact, providing an evaluation framework.\\\\n\\\\n\\\\n- The report identifies potential biases in AI systems, stressing the need for diverse and inclusive AI development.\\\\n\\\\n\\\\n- It recommends measures for businesses to promote diversity and inclusion in their AI development processes.\", \\'name\\': \\'Google_agent\\', \\'role\\': \\'assistant\\'}, {\\'content\\': \\'The \"Measuring Impact: The GenAI Code Report\" analyzes the impact of AI on workplace diversity and inclusion, providing an evaluation framework. It identifies potential biases in AI systems and stresses the need for diverse and inclusive AI development. The report also recommends measures for businesses to promote diversity and inclusion in their AI development processes.\\', \\'role\\': \\'user\\', \\'name\\': \\'Openai_agent\\'}], <autogen.agentchat.contrib.retrieve_user_proxy_agent.RetrieveUserProxyAgent object at 0x0000019E9B049180>: [{\\'content\\': \"Please provide summary for the \\'Measuring Impact: The GenAI Code Report\\' document.\", \\'name\\': \\'chat_manager\\', \\'role\\': \\'assistant\\'}, {\\'content\\': \\'The \"Measuring Impact: The GenAI Code Report\" examines the impact of artificial intelligence on diversity and inclusion in the workplace. It outlines a framework for measuring the impact of AI on diversity and provides insights into the potential for bias in AI systems. The report also offers recommendations for companies to improve diversity and inclusion in their AI development processes.\\', \\'name\\': \\'Openai_agent\\', \\'role\\': \\'assistant\\'}, {\\'content\\': \"1. The GenAI Code Report analyzes the impact of artificial intelligence (AI) on workplace diversity and inclusion.\\\\n\\\\n\\\\n2. It proposes a framework to measure AI\\'s impact on diversity and identifies potential biases within AI systems.\\\\n\\\\n\\\\n3. The report recommends that companies adopt measures to promote diversity and inclusion in their AI development processes.\", \\'role\\': \\'user\\', \\'name\\': \\'Google_agent\\'}, {\\'content\\': \\'The \"Measuring Impact: The GenAI Code Report\" analyzes the impact of artificial intelligence (AI) on workplace diversity and inclusion. It proposes a framework to measure AI\\\\\\'s impact on diversity and identifies potential biases within AI systems. The report recommends that companies adopt measures to promote diversity and inclusion in their AI development processes.\\', \\'name\\': \\'Openai_agent\\', \\'role\\': \\'assistant\\'}, {\\'content\\': \"- The GenAI Code Report analyzes AI\\'s influence on workplace diversity and inclusion.\\\\n\\\\n\\\\n- The report proposes a framework to assess AI\\'s impact on diversity and pinpoints potential biases in AI systems.\\\\n\\\\n\\\\n- Recommendations for businesses to prioritize diversity and inclusion in AI development processes are provided in the report.\", \\'role\\': \\'user\\', \\'name\\': \\'Google_agent\\'}, {\\'content\\': \\'The \"Measuring Impact: The GenAI Code Report\" examines AI\\\\\\'s influence on workplace diversity and inclusion. It proposes a framework to assess AI\\\\\\'s impact on diversity and highlights potential biases in AI systems. The report also offers recommendations for businesses to prioritize diversity and inclusion in AI development processes.\\', \\'name\\': \\'Openai_agent\\', \\'role\\': \\'assistant\\'}, {\\'content\\': \"- The GenAI Code Report examines the impact of AI on workplace diversity and inclusion, offering a framework to evaluate AI\\'s influence.\\\\n\\\\n\\\\n- It identifies potential biases in AI systems, underscoring the need for companies to focus on diversity and inclusion in AI development.\\\\n\\\\n\\\\n- Recommendations are provided to businesses, advocating for measures that promote diversity and inclusion within their AI development processes.\", \\'role\\': \\'user\\', \\'name\\': \\'Google_agent\\'}, {\\'content\\': \\'The \"Measuring Impact: The GenAI Code Report\" delves into the impact of AI on workplace diversity and inclusion, providing a framework to evaluate AI\\\\\\'s influence. It addresses potential biases in AI systems and advocates for companies to prioritize diversity and inclusion in AI development. Additionally, the report offers recommendations for businesses to implement measures promoting diversity and inclusion within their AI development processes.\\', \\'name\\': \\'Openai_agent\\', \\'role\\': \\'assistant\\'}, {\\'content\\': \\'- The GenAI Code Report examines the impact of AI on workplace diversity and inclusion, providing a framework for evaluation.\\\\n\\\\n\\\\n- It identifies potential biases in AI systems, stressing the importance of diversity and inclusion in AI development.\\\\n\\\\n\\\\n- The report recommends that businesses adopt measures to foster diversity and inclusion in their AI development processes.\\', \\'role\\': \\'user\\', \\'name\\': \\'Google_agent\\'}, {\\'content\\': \\'The \"Measuring Impact: The GenAI Code Report\" examines the impact of AI on workplace diversity and inclusion, and offers a framework for evaluation. It highlights potential biases in AI systems, emphasizing the importance of diversity and inclusion in AI development. The report also recommends that businesses adopt measures to foster diversity and inclusion in their AI development processes.\\', \\'name\\': \\'Openai_agent\\', \\'role\\': \\'assistant\\'}, {\\'content\\': \"- GenAI Code Report analyzes AI\\'s workplace diversity and inclusion impact, providing an evaluation framework.\\\\n\\\\n\\\\n- The report identifies potential biases in AI systems, stressing the need for diverse and inclusive AI development.\\\\n\\\\n\\\\n- It recommends measures for businesses to promote diversity and inclusion in their AI development processes.\", \\'role\\': \\'user\\', \\'name\\': \\'Google_agent\\'}, {\\'content\\': \\'The \"Measuring Impact: The GenAI Code Report\" analyzes the impact of AI on workplace diversity and inclusion, providing an evaluation framework. It identifies potential biases in AI systems and stresses the need for diverse and inclusive AI development. The report also recommends measures for businesses to promote diversity and inclusion in their AI development processes.\\', \\'name\\': \\'Openai_agent\\', \\'role\\': \\'assistant\\'}]})'"
      ]
     },
     "execution_count": 3,
     "metadata": {},
     "output_type": "execute_result"
    }
   ],
   "source": [
    "pm = SettlementChat(log_file=\"logs\\\\main.log\", config_file=\"CONFIG_LIST.json\", system_message_file=\"prompts\\\\Summarizer.txt\", docs_path=\"rag\\\\NewGenAI_ImpactReport.pdf\")\n",
    "pm.run(\"Please provide summary for the 'Measuring Impact: The GenAI Code Report' document.\")"
   ]
  },
  {
   "cell_type": "code",
   "execution_count": 4,
   "metadata": {},
   "outputs": [],
   "source": [
    "product_description = pm.get_summary()"
   ]
  },
  {
   "cell_type": "code",
   "execution_count": 5,
   "metadata": {},
   "outputs": [
    {
     "data": {
      "text/plain": [
       "\"Sure, here is a detailed summary of the provided information:\\n\\n**Title**: Measuring Impact: The GenAI Code Report\\n\\n**Main Points**:\\n\\n**1. Objective**:\\n   - Assesses the impact of artificial intelligence (AI) on diversity and inclusion in the workplace.\\n\\n**2. Framework**:\\n   - Proposes a framework to evaluate AI's influence on diversity, pinpointing potential biases within AI systems.\\n\\n**3. Recommendations**:\\n   - Advocates for measures that promote diversity and inclusion in AI development, covering necessary changes to implement.\\n\\n**Core Findings**:\\n\\n**1. Workplace Diversity and Inclusion**:\\n   - Analyzes the complexities of AI's impact on workplace diversity and inclusion.\\n\\n**2. Potential Biases**:\\n   - Highlights potential biases within AI systems and the importance of addressing them.\\n\\n**Recommendations for Businesses**:\\n\\n**1. Fostering Diversity and Inclusion**:\\n   - Emphasizes the need for companies to prioritize diversity and inclusion in their AI development processes.\\n\\n**Conclusion**:\\n\\n**1. Call to Action**:\\n   - Encourages businesses to adopt measures that promote diversity and inclusion in AI development.\\n\\n**Overall, the Measuring Impact: The GenAI Code Report sheds light on the evolving relationship between AI and diversity and inclusion in the workplace.**\""
      ]
     },
     "execution_count": 5,
     "metadata": {},
     "output_type": "execute_result"
    }
   ],
   "source": [
    "product_description"
   ]
  }
 ],
 "metadata": {
  "kernelspec": {
   "display_name": "base",
   "language": "python",
   "name": "python3"
  },
  "language_info": {
   "codemirror_mode": {
    "name": "ipython",
    "version": 3
   },
   "file_extension": ".py",
   "mimetype": "text/x-python",
   "name": "python",
   "nbconvert_exporter": "python",
   "pygments_lexer": "ipython3",
   "version": "3.10.0"
  }
 },
 "nbformat": 4,
 "nbformat_minor": 2
}
