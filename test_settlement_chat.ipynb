{
 "cells": [
  {
   "cell_type": "code",
   "execution_count": null,
   "metadata": {},
   "outputs": [],
   "source": [
    "from settlement_chat import SettlementChat"
   ]
  },
  {
   "cell_type": "code",
   "execution_count": null,
   "metadata": {},
   "outputs": [],
   "source": [
    "agent = SettlementChat(log_file=\"logs\\\\pm.log\",\n",
    "                       config_file=\"CONFIG_LIST.json\",\n",
    "                       system_message_file=\"prompts\\\\pm.txt\",\n",
    "                       docs_path=\"rag\\\\PM\",\n",
    "                       max_round=12,)\n",
    "agent.run(\"\"\"Please define the details and the requierments for notification service.\n",
    "          the service should be able to load data from diffrent sources,\n",
    "          like cvs and sql,\n",
    "          apply a notification logic calculation on each record,\n",
    "          and schedule a notification acoording.\n",
    "          the notification can be made though mail, sms, and other channels.\n",
    "          please be specific for the metioned integration and note the ability to add nore integrations\"\"\")"
   ]
  },
  {
   "cell_type": "code",
   "execution_count": null,
   "metadata": {},
   "outputs": [],
   "source": [
    "agent.get_summary()"
   ]
  }
 ],
 "metadata": {
  "kernelspec": {
   "display_name": "base",
   "language": "python",
   "name": "python3"
  },
  "language_info": {
   "codemirror_mode": {
    "name": "ipython",
    "version": 3
   },
   "file_extension": ".py",
   "mimetype": "text/x-python",
   "name": "python",
   "nbconvert_exporter": "python",
   "pygments_lexer": "ipython3",
   "version": "3.10.0"
  }
 },
 "nbformat": 4,
 "nbformat_minor": 2
}
