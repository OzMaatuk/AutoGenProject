{
 "cells": [
  {
   "cell_type": "code",
   "execution_count": 1,
   "metadata": {},
   "outputs": [],
   "source": [
    "from settlement_chat.text_processor import TextProcessor"
   ]
  },
  {
   "cell_type": "code",
   "execution_count": 2,
   "metadata": {},
   "outputs": [],
   "source": [
    "\n",
    "processor = TextProcessor(\"logs\\\\pm.log\", is_file=True)\n",
    "summarized_text = processor.summarize_text()\n",
    "short_lines = TextProcessor(summarized_text, is_file=False).remove_long_lines()\n",
    "unique_lines = TextProcessor(short_lines, is_file=False).remove_duplicate_lines()"
   ]
  },
  {
   "cell_type": "code",
   "execution_count": 3,
   "metadata": {},
   "outputs": [
    {
     "data": {
      "text/plain": [
       "'Target Audience:\\n - The app targets casual language learners who are motivated to master the basics of a new language without the pressure of formal classes or rigid schedules. Regular use of the app helps learners build a solid foundation in the target language, enabling them to communicate confidently in everyday situations. Furthermore, it offers the capability to add custom notification channels beyond email and SMS, ensuring adaptability to evolving communication needs.\\\\n\\\\nBenefits Brews: Users can anticipate improved communication efficiency, increased automation in notification workflows, personalized and relevant messaging, and ultimately, enhanced customer engagement and satisfaction.\\\\n\\\\nDONE\", \\'role\\': \\'user\\', \\'name\\': \\'First_agent\\'}], <autogen.agentchat.contrib.retrieve_user_proxy_agent.RetrieveUserProxyAgent object at 0x000001BD2872B520>: [{\\'content\\': \\'Please define the details and the requierments for notification service.\\\\n          the service should be able to load data from diffrent sources,\\\\n          like cvs and sql,\\\\n          apply a notification logic calculation on each record,\\\\n          and schedule a notification acoording.\\\\n          the notification can be made though mail, sms, and other channels.\\\\n          please be specific for the metioned integration and note the ability to add nore integrations\\', \\'name\\': \\'chat_manager\\', \\'role\\': \\'assistant\\'}, {\\'content\\': \\'Core Elixir: The notification service is designed to efficiently process data from diverse sources such as CSV and SQL, apply custom notification logic to each record, and schedule notifications based on the calculated logic. Additionally, it should provide an extensible architecture to easily incorporate new data sources, as well as the ability to add custom notification channels beyond email and SMS.\\\\n\\\\nBenefits Brews: Users can expect improved communication efficiency, increased automation in notification workflows, personalized and relevant messaging, and ultimately, enhanced customer engagement and satisfaction.\\\\n\\\\nDONE\\', \\'role\\': \\'user\\', \\'name\\': \\'First_agent\\'}, {\\'content\\': \\'Please define the details and the requierments for notification service.\\\\n          the service should be able to load data from diffrent sources,\\\\n          like cvs and sql,\\\\n          apply a notification logic calculation on each record,\\\\n          and schedule a notification acoording.\\\\n          the notification can be made though mail, sms, and other channels.\\\\n          please be specific for the metioned integration and note the ability to add nore integrations\\\\nREVIEW\\', \\'name\\': \\'Second_agent\\', \\'role\\': \\'assistant\\'}, {\\'content\\': \"Core Elixir: The notification service addresses the need to efficiently process data from diverse sources, such as CSV and SQL. Additionally, it should provide an extensible architecture to easily incorporate new data sources, as well as the ability to add custom notification channels beyond email and SMS.\\\\n\\\\nBenefits Brews: Users can expect improved communication efficiency, increased automation in notification workflows, personalized and relevant messaging, and ultimately, enhanced customer engagement and satisfaction.\\\\n\\\\nDONE\\', \\'name\\': \\'First_agent\\', \\'role\\': \\'assistant\\'}, {\\'content\\': \\'Please define the details and the requierments for notification service.\\\\n          the service should be able to load data from diffrent sources,\\\\n          like cvs and sql,\\\\n          apply a notification logic calculation on each record,\\\\n          and schedule a notification acoording.\\\\n          the notification can be made though mail, sms, and other channels.\\\\n          please be specific for the metioned integration and note the ability to add nore integrations\\\\nREVIEW\\', \\'role\\': \\'user\\', \\'name\\': \\'Second_agent\\'}, {\\'content\\': \"Core Elixir: The notification service addresses the need to efficiently process data from diverse sources, such as CSV and SQL. - Enhanced Travel Experiences: For individuals who enjoy traveling, the app provides a convenient and accessible way to learn basic phrases and essential communication skills in the language of their destination. Learners can connect with fellow language enthusiasts, share experiences, ask questions, and engage in discussions, creating a supportive learning environment. Its core value lies in its accessible and self-paced approach, catering to individuals who seek a flexible and engaging language learning experience. DONE\\n\\n--------------------------------------------------------------------------------\\n\\x1b[33mSecond_agent\\x1b[0m (to chat_manager):\\nTERMINATE\\n\\x1b[33mSummerizing agent\\x1b[0m (to Second_agent):\\nPlease provide an informative detailed summary of the following: defaultdict(<class \\'list\\'>, {<autogen.agentchat.groupchat.GroupChatManager object at 0x000001BD28E56230>: [{\\'content\\': \\'Please define the details and the requierments for notification service.\\\\n          the service should be able to load data from diffrent sources,\\\\n          like cvs and sql,\\\\n          apply a notification logic calculation on each record,\\\\n          and schedule a notification acoording.\\\\n          the notification can be made though mail, sms, and other channels.\\\\n          please be specific for the metioned integration and note the ability to add nore integrations\\', \\'role\\': \\'assistant\\'}, {\\'content\\': \\'Please define the details and the requierments for notification service.\\\\n          the service should be able to load data from diffrent sources,\\\\n          like cvs and sql,\\\\n          apply a notification logic calculation on each record,\\\\n          and schedule a notification acoording.\\\\n          the notification can be made though mail, sms, and other channels.\\\\n          please be specific for the metioned integration and note the ability to add nore integrations\\', \\'role\\': \\'user\\', \\'name\\': \\'chat_manager\\'}], <autogen.agentchat.contrib.retrieve_user_proxy_agent.RetrieveUserProxyAgent object at 0x000001BD2872B5B0>: [{\\'content\\': \\'Please define the details and the requierments for notification service.\\\\n          the service should be able to load data from diffrent sources,\\\\n          like cvs and sql,\\\\n          apply a notification logic calculation on each record,\\\\n          and schedule a notification acoording.\\\\n          the notification can be made though mail, sms, and other channels.\\\\n          please be specific for the metioned integration and note the ability to add nore integrations\\', \\'name\\': \\'chat_manager\\', \\'role\\': \\'assistant\\'}, {\\'content\\': \\'Core Elixir: The notification service is designed to efficiently process data from diverse sources such as CSV and SQL, apply custom notification logic to each record, and schedule notifications based on the calculated logic. The algorithm analyzes progress, identifies areas for improvement, and suggests personalized lessons and exercises to optimize the learning experience.'"
      ]
     },
     "execution_count": 3,
     "metadata": {},
     "output_type": "execute_result"
    }
   ],
   "source": [
    "unique_lines"
   ]
  }
 ],
 "metadata": {
  "kernelspec": {
   "display_name": "base",
   "language": "python",
   "name": "python3"
  },
  "language_info": {
   "codemirror_mode": {
    "name": "ipython",
    "version": 3
   },
   "file_extension": ".py",
   "mimetype": "text/x-python",
   "name": "python",
   "nbconvert_exporter": "python",
   "pygments_lexer": "ipython3",
   "version": "3.10.0"
  }
 },
 "nbformat": 4,
 "nbformat_minor": 2
}
